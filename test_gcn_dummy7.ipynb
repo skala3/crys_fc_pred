{
 "cells": [
  {
   "cell_type": "code",
   "execution_count": 1,
   "metadata": {},
   "outputs": [],
   "source": [
    "import time\n",
    "import numpy as np\n",
    "import pandas as pd\n",
    "import matplotlib.pyplot as plt\n",
    "import scipy.sparse as sp\n",
    "from sklearn.metrics import mean_squared_error, mean_absolute_error, r2_score\n",
    "\n",
    "import open3d as o3d\n",
    "from nilearn import datasets, surface\n",
    "from sklearn.model_selection import train_test_split, GridSearchCV\n",
    "\n",
    "import torch\n",
    "from torch_geometric.nn import GCNConv, global_mean_pool\n",
    "import torch.nn.functional as F\n",
    "from torch_geometric.data import Data, DataLoader\n",
    "import pyreadr\n",
    "from scipy.io import loadmat\n",
    "import statsmodels.api as sm\n",
    "\n",
    "#!pip install pyreadr"
   ]
  },
  {
   "cell_type": "code",
   "execution_count": 2,
   "metadata": {},
   "outputs": [],
   "source": [
    "lh_mat = loadmat('/Users/skala/Downloads/area-sm256-lh.mat')\n",
    "lh_mat_df = pd.DataFrame(data=lh_mat['measmat'], index=lh_mat['dirlist'][0])\n",
    "src_values = lh_mat_df.reset_index()['index'].astype('str').str.split(\"_\").str[2].values.reshape(-1,1)\n",
    "lh_mat_df['src'] = src_values.squeeze()\n",
    "X = lh_mat_df\n",
    "\n",
    "crys_orig = pyreadr.read_r(\"/Users/skala/Downloads/nonimaging_data_excluding_nt_5.1.rds\")\n",
    "cond = crys_orig[None]['nihtbx_cryst_fc'].notna()\n",
    "y = crys_orig[None].loc[cond][['src_subject_id','nihtbx_cryst_fc']]\n",
    "y['src'] = y['src_subject_id'].str.split('_').str[1]"
   ]
  },
  {
   "cell_type": "code",
   "execution_count": 4,
   "metadata": {},
   "outputs": [
    {
     "name": "stdout",
     "output_type": "stream",
     "text": [
      "Duplicate src_subject_ids:\n",
      "src_subject_id\n",
      "NDAR_INVV6KTVCZH    3\n",
      "NDAR_INVEYANDC02    3\n",
      "NDAR_INV1MYF7VFL    3\n",
      "NDAR_INV4G19G9J8    3\n",
      "NDAR_INVTMVWP642    3\n",
      "                   ..\n",
      "NDAR_INV7N4MXK3N    2\n",
      "NDAR_INV7K1MZVU9    2\n",
      "NDAR_INV7G3ZUVUL    2\n",
      "NDAR_INV7N4ED3TP    2\n",
      "NDAR_INV7G30XLFU    2\n",
      "Name: count, Length: 6804, dtype: int64\n",
      "\n",
      "Full records for duplicated subjects:\n",
      "         src_subject_id  nihtbx_cryst_fc          src\n",
      "14     NDAR_INV00CY2MDM             47.0  INV00CY2MDM\n",
      "16     NDAR_INV00CY2MDM             36.0  INV00CY2MDM\n",
      "19     NDAR_INV00HEV6HB             57.0  INV00HEV6HB\n",
      "21     NDAR_INV00HEV6HB             55.0  INV00HEV6HB\n",
      "28     NDAR_INV00LH735Y             50.0  INV00LH735Y\n",
      "...                 ...              ...          ...\n",
      "48985  NDAR_INVH2CGXAAN             52.0  INVH2CGXAAN\n",
      "49032  NDAR_INVN72UK9CX             31.0  INVN72UK9CX\n",
      "49087  NDAR_INVX192FE67             55.0  INVX192FE67\n",
      "49101  NDAR_INVXRR639H7             61.0  INVXRR639H7\n",
      "62954  NDAR_INV1DDX454E             41.0  INV1DDX454E\n",
      "\n",
      "[14192 rows x 3 columns]\n"
     ]
    }
   ],
   "source": [
    "# Find duplicate src_subject_ids\n",
    "duplicate_subjects = y['src_subject_id'].value_counts()\n",
    "duplicates = duplicate_subjects[duplicate_subjects > 1]\n",
    "\n",
    "print(\"Duplicate src_subject_ids:\")\n",
    "print(duplicates)\n",
    "\n",
    "# Show the full records for duplicated subjects\n",
    "print(\"\\nFull records for duplicated subjects:\")\n",
    "print(y[y['src_subject_id'].isin(duplicates.index)])"
   ]
  },
  {
   "cell_type": "code",
   "execution_count": 5,
   "metadata": {},
   "outputs": [
    {
     "name": "stdout",
     "output_type": "stream",
     "text": [
      "Rows before filtering: 18994\n",
      "Rows after filtering: 4802\n",
      "\n",
      "Number of duplicate src values removed: 6804\n",
      "Each index maps to exactly one src value: True\n",
      "\n",
      "Counts:\n",
      "Unique src values: 11536\n",
      "Total rows: 11536\n",
      "Unique indices: 11536\n"
     ]
    }
   ],
   "source": [
    "src_counts = y['src'].value_counts()  # Get counts of each src value\n",
    "unique_src = src_counts[src_counts == 1].index  # Get src values that appear exactly once\n",
    "y = y[y['src'].isin(unique_src)]\n",
    "\n",
    "print(f\"Rows before filtering: {src_counts.sum()}\")\n",
    "print(f\"Rows after filtering: {len(y)}\")\n",
    "print(f\"\\nNumber of duplicate src values removed: {len(src_counts[src_counts > 1])}\")\n",
    "\n",
    "# Check if each index maps to exactly one src value\n",
    "X.index = X.index.astype(str)\n",
    "index_src_mapping = X.groupby(X.index)['src'].nunique()\n",
    "all_one_to_one = (index_src_mapping == 1).all()\n",
    "print(f\"Each index maps to exactly one src value: {all_one_to_one}\")\n",
    "\n",
    "# Original counts for reference\n",
    "print(\"\\nCounts:\")\n",
    "print(f\"Unique src values: {X['src'].nunique()}\")\n",
    "print(f\"Total rows: {X['src'].shape[0]}\")\n",
    "print(f\"Unique indices: {X.index.nunique()}\")"
   ]
  },
  {
   "cell_type": "code",
   "execution_count": 6,
   "metadata": {},
   "outputs": [
    {
     "name": "stdout",
     "output_type": "stream",
     "text": [
      "Check if each index maps to exactly one src value: True\n"
     ]
    },
    {
     "data": {
      "text/plain": [
       "<Axes: ylabel='Frequency'>"
      ]
     },
     "execution_count": 6,
     "metadata": {},
     "output_type": "execute_result"
    },
    {
     "data": {
      "image/png": "[encoded data removed]",
      "text/plain": [
       "<Figure size 400x300 with 1 Axes>"
      ]
     },
     "metadata": {},
     "output_type": "display_data"
    }
   ],
   "source": [
    "X.reset_index(drop=True, inplace=True)\n",
    "y.drop(columns=['src_subject_id'], inplace=True)\n",
    "\n",
    "df = X.merge(y, on='src', how='inner')\n",
    "print(\"Check if each index maps to exactly one src value:\", df.src.nunique() == df.shape[0])\n",
    "df.drop(columns=['src'], inplace=True, axis=1)  #Unnecessary column\n",
    "df.reset_index(inplace=True)  #Scrambled index\n",
    "\n",
    "df['nihtbx_cryst_fc'].plot.hist(figsize=(4, 3))"
   ]
  },
  {
   "cell_type": "code",
   "execution_count": 7,
   "metadata": {},
   "outputs": [],
   "source": [
    "if 'index' in df.columns:\n",
    "    df.drop(columns=['index'], axis=1, inplace=True)"
   ]
  },
  {
   "cell_type": "code",
   "execution_count": 8,
   "metadata": {},
   "outputs": [
    {
     "name": "stdout",
     "output_type": "stream",
     "text": [
      "Min and max values of the features: 0.00, 2.57\n",
      "Max and min values of the target variable: 147.00, 11.00\n"
     ]
    }
   ],
   "source": [
    "min_x = df.drop(columns=['nihtbx_cryst_fc'], axis=1).min().min()\n",
    "max_x = df.drop(columns=['nihtbx_cryst_fc'], axis=1).max().max()\n",
    "print(f\"Min and max values of the features: {min_x:.2f}, {max_x:.2f}\")\n",
    "\n",
    "max_y = df['nihtbx_cryst_fc'].max()\n",
    "min_y = df['nihtbx_cryst_fc'].min()\n",
    "print(f\"Max and min values of the target variable: {max_y:.2f}, {min_y:.2f}\")"
   ]
  },
  {
   "cell_type": "code",
   "execution_count": 9,
   "metadata": {},
   "outputs": [],
   "source": [
    "# Normalize features (X) to [0,1] range\n",
    "X = df.drop(columns=['nihtbx_cryst_fc'], axis=1)\n",
    "X = (X - min_x) / (max_x - min_x)  #+ 1e-8\n",
    "\n",
    "# Normalize target (y) to [0,1] range \n",
    "y = df['nihtbx_cryst_fc']\n",
    "y = (y - y.min()) / (y.max() - y.min()) #+ 1e-8\n",
    "\n",
    "# Recombine into dataframe\n",
    "df_normalized = pd.concat([X, y.rename('nihtbx_cryst_fc')], axis=1)"
   ]
  },
  {
   "cell_type": "code",
   "execution_count": 10,
   "metadata": {},
   "outputs": [
    {
     "data": {
      "text/plain": [
       "<Axes: ylabel='Frequency'>"
      ]
     },
     "execution_count": 10,
     "metadata": {},
     "output_type": "execute_result"
    },
    {
     "data": {
      "image/png": "[encoded data removed]",
      "text/plain": [
       "<Figure size 400x300 with 1 Axes>"
      ]
     },
     "metadata": {},
     "output_type": "display_data"
    }
   ],
   "source": [
    "df_normalized['nihtbx_cryst_fc'].plot.hist(figsize=(4, 3))"
   ]
  },
  {
   "cell_type": "code",
   "execution_count": 11,
   "metadata": {},
   "outputs": [
    {
     "name": "stdout",
     "output_type": "stream",
     "text": [
      "0.0 1.0\n",
      "0.0 1.0\n"
     ]
    }
   ],
   "source": [
    "print(df_normalized.drop(columns=['nihtbx_cryst_fc'], axis=1).min().min(), df_normalized.drop(columns=['nihtbx_cryst_fc'], axis=1).max().max())\n",
    "print(y.min(), y.max())"
   ]
  },
  {
   "cell_type": "code",
   "execution_count": 12,
   "metadata": {},
   "outputs": [],
   "source": [
    "df_normalized['tot'] = df_normalized.drop(columns=['nihtbx_cryst_fc'], axis=1).sum(axis=1)"
   ]
  },
  {
   "cell_type": "code",
   "execution_count": 13,
   "metadata": {},
   "outputs": [
    {
     "data": {
      "text/html": [
       "<div>\n",
       "<style scoped>\n",
       "    .dataframe tbody tr th:only-of-type {\n",
       "        vertical-align: middle;\n",
       "    }\n",
       "\n",
       "    .dataframe tbody tr th {\n",
       "        vertical-align: top;\n",
       "    }\n",
       "\n",
       "    .dataframe thead th {\n",
       "        text-align: right;\n",
       "    }\n",
       "</style>\n",
       "<table border=\"1\" class=\"dataframe\">\n",
       "  <thead>\n",
       "    <tr style=\"text-align: right;\">\n",
       "      <th></th>\n",
       "      <th>0</th>\n",
       "      <th>1</th>\n",
       "      <th>2</th>\n",
       "      <th>3</th>\n",
       "      <th>4</th>\n",
       "      <th>5</th>\n",
       "      <th>6</th>\n",
       "      <th>7</th>\n",
       "      <th>8</th>\n",
       "      <th>9</th>\n",
       "      <th>...</th>\n",
       "      <th>10234</th>\n",
       "      <th>10235</th>\n",
       "      <th>10236</th>\n",
       "      <th>10237</th>\n",
       "      <th>10238</th>\n",
       "      <th>10239</th>\n",
       "      <th>10240</th>\n",
       "      <th>10241</th>\n",
       "      <th>nihtbx_cryst_fc</th>\n",
       "      <th>tot</th>\n",
       "    </tr>\n",
       "  </thead>\n",
       "  <tbody>\n",
       "    <tr>\n",
       "      <th>0</th>\n",
       "      <td>0.190878</td>\n",
       "      <td>0.172863</td>\n",
       "      <td>0.225509</td>\n",
       "      <td>0.270493</td>\n",
       "      <td>0.189438</td>\n",
       "      <td>0.221206</td>\n",
       "      <td>0.264484</td>\n",
       "      <td>0.152729</td>\n",
       "      <td>0.0</td>\n",
       "      <td>0.185606</td>\n",
       "      <td>...</td>\n",
       "      <td>0.139071</td>\n",
       "      <td>0.152432</td>\n",
       "      <td>0.168877</td>\n",
       "      <td>0.162210</td>\n",
       "      <td>0.172518</td>\n",
       "      <td>0.188103</td>\n",
       "      <td>0.209846</td>\n",
       "      <td>0.233113</td>\n",
       "      <td>0.352941</td>\n",
       "      <td>2193.568359</td>\n",
       "    </tr>\n",
       "    <tr>\n",
       "      <th>1</th>\n",
       "      <td>0.198612</td>\n",
       "      <td>0.215215</td>\n",
       "      <td>0.177927</td>\n",
       "      <td>0.406496</td>\n",
       "      <td>0.145116</td>\n",
       "      <td>0.232573</td>\n",
       "      <td>0.299038</td>\n",
       "      <td>0.166745</td>\n",
       "      <td>0.0</td>\n",
       "      <td>0.183179</td>\n",
       "      <td>...</td>\n",
       "      <td>0.171965</td>\n",
       "      <td>0.187931</td>\n",
       "      <td>0.206555</td>\n",
       "      <td>0.207690</td>\n",
       "      <td>0.216125</td>\n",
       "      <td>0.226095</td>\n",
       "      <td>0.245231</td>\n",
       "      <td>0.263104</td>\n",
       "      <td>0.433824</td>\n",
       "      <td>2302.734375</td>\n",
       "    </tr>\n",
       "    <tr>\n",
       "      <th>2</th>\n",
       "      <td>0.241936</td>\n",
       "      <td>0.179150</td>\n",
       "      <td>0.120232</td>\n",
       "      <td>0.322970</td>\n",
       "      <td>0.140113</td>\n",
       "      <td>0.220396</td>\n",
       "      <td>0.384042</td>\n",
       "      <td>0.140645</td>\n",
       "      <td>0.0</td>\n",
       "      <td>0.134591</td>\n",
       "      <td>...</td>\n",
       "      <td>0.158197</td>\n",
       "      <td>0.166168</td>\n",
       "      <td>0.174653</td>\n",
       "      <td>0.176437</td>\n",
       "      <td>0.177916</td>\n",
       "      <td>0.182700</td>\n",
       "      <td>0.189970</td>\n",
       "      <td>0.196788</td>\n",
       "      <td>0.257353</td>\n",
       "      <td>1909.751709</td>\n",
       "    </tr>\n",
       "    <tr>\n",
       "      <th>3</th>\n",
       "      <td>0.234218</td>\n",
       "      <td>0.250830</td>\n",
       "      <td>0.160402</td>\n",
       "      <td>0.322052</td>\n",
       "      <td>0.189079</td>\n",
       "      <td>0.218061</td>\n",
       "      <td>0.232954</td>\n",
       "      <td>0.171949</td>\n",
       "      <td>0.0</td>\n",
       "      <td>0.233533</td>\n",
       "      <td>...</td>\n",
       "      <td>0.183208</td>\n",
       "      <td>0.193011</td>\n",
       "      <td>0.203810</td>\n",
       "      <td>0.226482</td>\n",
       "      <td>0.219628</td>\n",
       "      <td>0.213970</td>\n",
       "      <td>0.222415</td>\n",
       "      <td>0.228611</td>\n",
       "      <td>0.279412</td>\n",
       "      <td>2524.635254</td>\n",
       "    </tr>\n",
       "    <tr>\n",
       "      <th>4</th>\n",
       "      <td>0.216354</td>\n",
       "      <td>0.234590</td>\n",
       "      <td>0.196375</td>\n",
       "      <td>0.395163</td>\n",
       "      <td>0.207244</td>\n",
       "      <td>0.207938</td>\n",
       "      <td>0.382366</td>\n",
       "      <td>0.194722</td>\n",
       "      <td>0.0</td>\n",
       "      <td>0.174630</td>\n",
       "      <td>...</td>\n",
       "      <td>0.150387</td>\n",
       "      <td>0.162863</td>\n",
       "      <td>0.176397</td>\n",
       "      <td>0.196862</td>\n",
       "      <td>0.193792</td>\n",
       "      <td>0.189405</td>\n",
       "      <td>0.200993</td>\n",
       "      <td>0.210860</td>\n",
       "      <td>0.389706</td>\n",
       "      <td>2452.859619</td>\n",
       "    </tr>\n",
       "    <tr>\n",
       "      <th>...</th>\n",
       "      <td>...</td>\n",
       "      <td>...</td>\n",
       "      <td>...</td>\n",
       "      <td>...</td>\n",
       "      <td>...</td>\n",
       "      <td>...</td>\n",
       "      <td>...</td>\n",
       "      <td>...</td>\n",
       "      <td>...</td>\n",
       "      <td>...</td>\n",
       "      <td>...</td>\n",
       "      <td>...</td>\n",
       "      <td>...</td>\n",
       "      <td>...</td>\n",
       "      <td>...</td>\n",
       "      <td>...</td>\n",
       "      <td>...</td>\n",
       "      <td>...</td>\n",
       "      <td>...</td>\n",
       "      <td>...</td>\n",
       "      <td>...</td>\n",
       "    </tr>\n",
       "    <tr>\n",
       "      <th>4610</th>\n",
       "      <td>0.184466</td>\n",
       "      <td>0.220219</td>\n",
       "      <td>0.177945</td>\n",
       "      <td>0.317941</td>\n",
       "      <td>0.162141</td>\n",
       "      <td>0.271071</td>\n",
       "      <td>0.326280</td>\n",
       "      <td>0.206056</td>\n",
       "      <td>0.0</td>\n",
       "      <td>0.169470</td>\n",
       "      <td>...</td>\n",
       "      <td>0.189160</td>\n",
       "      <td>0.211755</td>\n",
       "      <td>0.236449</td>\n",
       "      <td>0.236541</td>\n",
       "      <td>0.247404</td>\n",
       "      <td>0.260209</td>\n",
       "      <td>0.281035</td>\n",
       "      <td>0.297921</td>\n",
       "      <td>0.448529</td>\n",
       "      <td>2351.873291</td>\n",
       "    </tr>\n",
       "    <tr>\n",
       "      <th>4611</th>\n",
       "      <td>0.282941</td>\n",
       "      <td>0.167797</td>\n",
       "      <td>0.173695</td>\n",
       "      <td>0.391436</td>\n",
       "      <td>0.182883</td>\n",
       "      <td>0.190874</td>\n",
       "      <td>0.378009</td>\n",
       "      <td>0.214190</td>\n",
       "      <td>0.0</td>\n",
       "      <td>0.208199</td>\n",
       "      <td>...</td>\n",
       "      <td>0.209155</td>\n",
       "      <td>0.222749</td>\n",
       "      <td>0.236597</td>\n",
       "      <td>0.248430</td>\n",
       "      <td>0.248018</td>\n",
       "      <td>0.247297</td>\n",
       "      <td>0.252540</td>\n",
       "      <td>0.251983</td>\n",
       "      <td>0.316176</td>\n",
       "      <td>2506.324951</td>\n",
       "    </tr>\n",
       "    <tr>\n",
       "      <th>4612</th>\n",
       "      <td>0.232771</td>\n",
       "      <td>0.164949</td>\n",
       "      <td>0.156828</td>\n",
       "      <td>0.458091</td>\n",
       "      <td>0.221653</td>\n",
       "      <td>0.304250</td>\n",
       "      <td>0.373642</td>\n",
       "      <td>0.241829</td>\n",
       "      <td>0.0</td>\n",
       "      <td>0.171925</td>\n",
       "      <td>...</td>\n",
       "      <td>0.157001</td>\n",
       "      <td>0.169392</td>\n",
       "      <td>0.185061</td>\n",
       "      <td>0.169049</td>\n",
       "      <td>0.183669</td>\n",
       "      <td>0.202931</td>\n",
       "      <td>0.221954</td>\n",
       "      <td>0.241165</td>\n",
       "      <td>0.242647</td>\n",
       "      <td>2449.677002</td>\n",
       "    </tr>\n",
       "    <tr>\n",
       "      <th>4613</th>\n",
       "      <td>0.173168</td>\n",
       "      <td>0.216082</td>\n",
       "      <td>0.160746</td>\n",
       "      <td>0.351443</td>\n",
       "      <td>0.178338</td>\n",
       "      <td>0.190383</td>\n",
       "      <td>0.399750</td>\n",
       "      <td>0.195692</td>\n",
       "      <td>0.0</td>\n",
       "      <td>0.204357</td>\n",
       "      <td>...</td>\n",
       "      <td>0.194294</td>\n",
       "      <td>0.208721</td>\n",
       "      <td>0.223580</td>\n",
       "      <td>0.237109</td>\n",
       "      <td>0.238061</td>\n",
       "      <td>0.237327</td>\n",
       "      <td>0.249296</td>\n",
       "      <td>0.259233</td>\n",
       "      <td>0.301471</td>\n",
       "      <td>2292.811523</td>\n",
       "    </tr>\n",
       "    <tr>\n",
       "      <th>4614</th>\n",
       "      <td>0.242936</td>\n",
       "      <td>0.217691</td>\n",
       "      <td>0.173939</td>\n",
       "      <td>0.304164</td>\n",
       "      <td>0.210820</td>\n",
       "      <td>0.207915</td>\n",
       "      <td>0.439950</td>\n",
       "      <td>0.182017</td>\n",
       "      <td>0.0</td>\n",
       "      <td>0.161373</td>\n",
       "      <td>...</td>\n",
       "      <td>0.170557</td>\n",
       "      <td>0.189176</td>\n",
       "      <td>0.210637</td>\n",
       "      <td>0.207852</td>\n",
       "      <td>0.218094</td>\n",
       "      <td>0.232676</td>\n",
       "      <td>0.253541</td>\n",
       "      <td>0.271959</td>\n",
       "      <td>0.345588</td>\n",
       "      <td>2362.154541</td>\n",
       "    </tr>\n",
       "  </tbody>\n",
       "</table>\n",
       "<p>4615 rows × 10244 columns</p>\n",
       "</div>"
      ],
      "text/plain": [
       "             0         1         2         3         4         5         6  \\\n",
       "0     0.190878  0.172863  0.225509  0.270493  0.189438  0.221206  0.264484   \n",
       "1     0.198612  0.215215  0.177927  0.406496  0.145116  0.232573  0.299038   \n",
       "2     0.241936  0.179150  0.120232  0.322970  0.140113  0.220396  0.384042   \n",
       "3     0.234218  0.250830  0.160402  0.322052  0.189079  0.218061  0.232954   \n",
       "4     0.216354  0.234590  0.196375  0.395163  0.207244  0.207938  0.382366   \n",
       "...        ...       ...       ...       ...       ...       ...       ...   \n",
       "4610  0.184466  0.220219  0.177945  0.317941  0.162141  0.271071  0.326280   \n",
       "4611  0.282941  0.167797  0.173695  0.391436  0.182883  0.190874  0.378009   \n",
       "4612  0.232771  0.164949  0.156828  0.458091  0.221653  0.304250  0.373642   \n",
       "4613  0.173168  0.216082  0.160746  0.351443  0.178338  0.190383  0.399750   \n",
       "4614  0.242936  0.217691  0.173939  0.304164  0.210820  0.207915  0.439950   \n",
       "\n",
       "             7    8         9  ...     10234     10235     10236     10237  \\\n",
       "0     0.152729  0.0  0.185606  ...  0.139071  0.152432  0.168877  0.162210   \n",
       "1     0.166745  0.0  0.183179  ...  0.171965  0.187931  0.206555  0.207690   \n",
       "2     0.140645  0.0  0.134591  ...  0.158197  0.166168  0.174653  0.176437   \n",
       "3     0.171949  0.0  0.233533  ...  0.183208  0.193011  0.203810  0.226482   \n",
       "4     0.194722  0.0  0.174630  ...  0.150387  0.162863  0.176397  0.196862   \n",
       "...        ...  ...       ...  ...       ...       ...       ...       ...   \n",
       "4610  0.206056  0.0  0.169470  ...  0.189160  0.211755  0.236449  0.236541   \n",
       "4611  0.214190  0.0  0.208199  ...  0.209155  0.222749  0.236597  0.248430   \n",
       "4612  0.241829  0.0  0.171925  ...  0.157001  0.169392  0.185061  0.169049   \n",
       "4613  0.195692  0.0  0.204357  ...  0.194294  0.208721  0.223580  0.237109   \n",
       "4614  0.182017  0.0  0.161373  ...  0.170557  0.189176  0.210637  0.207852   \n",
       "\n",
       "         10238     10239     10240     10241  nihtbx_cryst_fc          tot  \n",
       "0     0.172518  0.188103  0.209846  0.233113         0.352941  2193.568359  \n",
       "1     0.216125  0.226095  0.245231  0.263104         0.433824  2302.734375  \n",
       "2     0.177916  0.182700  0.189970  0.196788         0.257353  1909.751709  \n",
       "3     0.219628  0.213970  0.222415  0.228611         0.279412  2524.635254  \n",
       "4     0.193792  0.189405  0.200993  0.210860         0.389706  2452.859619  \n",
       "...        ...       ...       ...       ...              ...          ...  \n",
       "4610  0.247404  0.260209  0.281035  0.297921         0.448529  2351.873291  \n",
       "4611  0.248018  0.247297  0.252540  0.251983         0.316176  2506.324951  \n",
       "4612  0.183669  0.202931  0.221954  0.241165         0.242647  2449.677002  \n",
       "4613  0.238061  0.237327  0.249296  0.259233         0.301471  2292.811523  \n",
       "4614  0.218094  0.232676  0.253541  0.271959         0.345588  2362.154541  \n",
       "\n",
       "[4615 rows x 10244 columns]"
      ]
     },
     "execution_count": 13,
     "metadata": {},
     "output_type": "execute_result"
    }
   ],
   "source": [
    "df_normalized"
   ]
  },
  {
   "cell_type": "code",
   "execution_count": 14,
   "metadata": {},
   "outputs": [
    {
     "name": "stdout",
     "output_type": "stream",
     "text": [
      "                                 OLS Regression Results                                \n",
      "=======================================================================================\n",
      "Dep. Variable:        nihtbx_cryst_fc   R-squared (uncentered):                   0.923\n",
      "Model:                            OLS   Adj. R-squared (uncentered):              0.923\n",
      "Method:                 Least Squares   F-statistic:                          5.536e+04\n",
      "Date:                Mon, 24 Feb 2025   Prob (F-statistic):                        0.00\n",
      "Time:                        23:42:47   Log-Likelihood:                          4903.5\n",
      "No. Observations:                4615   AIC:                                     -9805.\n",
      "Df Residuals:                    4614   BIC:                                     -9799.\n",
      "Df Model:                           1                                                  \n",
      "Covariance Type:            nonrobust                                                  \n",
      "==============================================================================\n",
      "                 coef    std err          t      P>|t|      [0.025      0.975]\n",
      "------------------------------------------------------------------------------\n",
      "tot            0.0001   5.49e-07    235.290      0.000       0.000       0.000\n",
      "==============================================================================\n",
      "Omnibus:                      644.527   Durbin-Watson:                   1.983\n",
      "Prob(Omnibus):                  0.000   Jarque-Bera (JB):             1449.565\n",
      "Skew:                           0.821   Prob(JB):                         0.00\n",
      "Kurtosis:                       5.200   Cond. No.                         1.00\n",
      "==============================================================================\n",
      "\n",
      "Notes:\n",
      "[1] R² is computed without centering (uncentered) since the model does not contain a constant.\n",
      "[2] Standard Errors assume that the covariance matrix of the errors is correctly specified.\n"
     ]
    }
   ],
   "source": [
    "OLS_model = sm.OLS(df_normalized['nihtbx_cryst_fc'], df_normalized['tot'])\n",
    "OLS_results = OLS_model.fit()\n",
    "print(OLS_results.summary())"
   ]
  },
  {
   "cell_type": "code",
   "execution_count": 15,
   "metadata": {},
   "outputs": [
    {
     "data": {
      "image/png": "[encoded data removed]",
      "text/plain": [
       "<Figure size 800x600 with 1 Axes>"
      ]
     },
     "metadata": {},
     "output_type": "display_data"
    }
   ],
   "source": [
    "# Plot actual vs predicted values\n",
    "plt.figure(figsize=(8,6))\n",
    "plt.scatter(df_normalized['tot'], df_normalized['nihtbx_cryst_fc'], alpha=0.5)\n",
    "plt.plot(df_normalized['tot'], OLS_results.predict(df_normalized['tot']), color='red', label='Regression line')\n",
    "plt.xlabel('Total normalized features')\n",
    "plt.ylabel('Normalized target (Crystal)')\n",
    "plt.title('Actual vs Predicted Values')\n",
    "plt.legend()\n",
    "plt.show()"
   ]
  },
  {
   "cell_type": "code",
   "execution_count": 16,
   "metadata": {},
   "outputs": [
    {
     "name": "stdout",
     "output_type": "stream",
     "text": [
      "Correlation b/w total normalized features and target: 0.119\n"
     ]
    }
   ],
   "source": [
    "corr = df_normalized['nihtbx_cryst_fc'].corr(df_normalized['tot'])\n",
    "print(f\"Correlation b/w total normalized features and target: {corr:.3f}\")"
   ]
  },
  {
   "cell_type": "code",
   "execution_count": 17,
   "metadata": {},
   "outputs": [
    {
     "data": {
      "text/html": [
       "<div>\n",
       "<style scoped>\n",
       "    .dataframe tbody tr th:only-of-type {\n",
       "        vertical-align: middle;\n",
       "    }\n",
       "\n",
       "    .dataframe tbody tr th {\n",
       "        vertical-align: top;\n",
       "    }\n",
       "\n",
       "    .dataframe thead th {\n",
       "        text-align: right;\n",
       "    }\n",
       "</style>\n",
       "<table border=\"1\" class=\"dataframe\">\n",
       "  <thead>\n",
       "    <tr style=\"text-align: right;\">\n",
       "      <th></th>\n",
       "      <th>0</th>\n",
       "      <th>1</th>\n",
       "      <th>2</th>\n",
       "      <th>3</th>\n",
       "      <th>4</th>\n",
       "      <th>5</th>\n",
       "      <th>6</th>\n",
       "      <th>7</th>\n",
       "      <th>8</th>\n",
       "      <th>9</th>\n",
       "      <th>...</th>\n",
       "      <th>10234</th>\n",
       "      <th>10235</th>\n",
       "      <th>10236</th>\n",
       "      <th>10237</th>\n",
       "      <th>10238</th>\n",
       "      <th>10239</th>\n",
       "      <th>10240</th>\n",
       "      <th>10241</th>\n",
       "      <th>nihtbx_cryst_fc</th>\n",
       "      <th>tot</th>\n",
       "    </tr>\n",
       "  </thead>\n",
       "  <tbody>\n",
       "    <tr>\n",
       "      <th>0</th>\n",
       "      <td>0.190878</td>\n",
       "      <td>0.172863</td>\n",
       "      <td>0.225509</td>\n",
       "      <td>0.270493</td>\n",
       "      <td>0.189438</td>\n",
       "      <td>0.221206</td>\n",
       "      <td>0.264484</td>\n",
       "      <td>0.152729</td>\n",
       "      <td>0.0</td>\n",
       "      <td>0.185606</td>\n",
       "      <td>...</td>\n",
       "      <td>0.139071</td>\n",
       "      <td>0.152432</td>\n",
       "      <td>0.168877</td>\n",
       "      <td>0.16221</td>\n",
       "      <td>0.172518</td>\n",
       "      <td>0.188103</td>\n",
       "      <td>0.209846</td>\n",
       "      <td>0.233113</td>\n",
       "      <td>0.352941</td>\n",
       "      <td>2193.568359</td>\n",
       "    </tr>\n",
       "    <tr>\n",
       "      <th>1</th>\n",
       "      <td>0.198612</td>\n",
       "      <td>0.215215</td>\n",
       "      <td>0.177927</td>\n",
       "      <td>0.406496</td>\n",
       "      <td>0.145116</td>\n",
       "      <td>0.232573</td>\n",
       "      <td>0.299038</td>\n",
       "      <td>0.166745</td>\n",
       "      <td>0.0</td>\n",
       "      <td>0.183179</td>\n",
       "      <td>...</td>\n",
       "      <td>0.171965</td>\n",
       "      <td>0.187931</td>\n",
       "      <td>0.206555</td>\n",
       "      <td>0.20769</td>\n",
       "      <td>0.216125</td>\n",
       "      <td>0.226095</td>\n",
       "      <td>0.245231</td>\n",
       "      <td>0.263104</td>\n",
       "      <td>0.433824</td>\n",
       "      <td>2302.734375</td>\n",
       "    </tr>\n",
       "  </tbody>\n",
       "</table>\n",
       "<p>2 rows × 10244 columns</p>\n",
       "</div>"
      ],
      "text/plain": [
       "          0         1         2         3         4         5         6  \\\n",
       "0  0.190878  0.172863  0.225509  0.270493  0.189438  0.221206  0.264484   \n",
       "1  0.198612  0.215215  0.177927  0.406496  0.145116  0.232573  0.299038   \n",
       "\n",
       "          7    8         9  ...     10234     10235     10236    10237  \\\n",
       "0  0.152729  0.0  0.185606  ...  0.139071  0.152432  0.168877  0.16221   \n",
       "1  0.166745  0.0  0.183179  ...  0.171965  0.187931  0.206555  0.20769   \n",
       "\n",
       "      10238     10239     10240     10241  nihtbx_cryst_fc          tot  \n",
       "0  0.172518  0.188103  0.209846  0.233113         0.352941  2193.568359  \n",
       "1  0.216125  0.226095  0.245231  0.263104         0.433824  2302.734375  \n",
       "\n",
       "[2 rows x 10244 columns]"
      ]
     },
     "execution_count": 17,
     "metadata": {},
     "output_type": "execute_result"
    }
   ],
   "source": [
    "df_normalized.head(2)"
   ]
  },
  {
   "cell_type": "code",
   "execution_count": 18,
   "metadata": {},
   "outputs": [],
   "source": [
    "fsaverage = datasets.fetch_surf_fsaverage()\n",
    "\n",
    "LEFT = True\n",
    "pial = 'pial_left' if LEFT else 'pial_right'\n",
    "coords, faces = surface.load_surf_mesh(fsaverage[pial])\n",
    "\n",
    "X_ = df_normalized.drop(columns=['nihtbx_cryst_fc', 'tot'], axis=1)\n",
    "y_ = df_normalized[['nihtbx_cryst_fc']]\n",
    "\n",
    "# Ensure X and y have the same number of samples\n",
    "if X_.shape[0] != y_.shape[0]:\n",
    "\traise ValueError(f\"Inconsistent number of samples: \\\n",
    "\t\t\t\t  X has {X.shape[0]} samples, but y has {y.shape[0]} samples.\")"
   ]
  },
  {
   "cell_type": "code",
   "execution_count": 19,
   "metadata": {},
   "outputs": [
    {
     "data": {
      "text/plain": [
       "((4615, 10242), (4615, 1), (10242, 3), (20480, 3))"
      ]
     },
     "execution_count": 19,
     "metadata": {},
     "output_type": "execute_result"
    }
   ],
   "source": [
    "X_.shape, y_.shape, coords.shape, faces.shape"
   ]
  },
  {
   "cell_type": "code",
   "execution_count": 25,
   "metadata": {},
   "outputs": [
    {
     "data": {
      "text/plain": [
       "'\\n# Convert CSR matrix to COO format first\\nA_coo = A_csr.tocoo()\\n\\n# Create indices and values tensors\\nindices = torch.LongTensor(np.vstack((A_coo.row, A_coo.col)))\\nvalues = torch.FloatTensor(A_coo.data)\\nshape = torch.Size(A_csr.shape)\\n\\n# Create sparse torch tensor in COO format\\nA_torch = torch.sparse_coo_tensor(indices, values, shape)\\n'"
      ]
     },
     "execution_count": 25,
     "metadata": {},
     "output_type": "execute_result"
    }
   ],
   "source": [
    "def build_surface_adjacency(coords, faces):\n",
    "    \"\"\"\n",
    "    Build an adjacency list (or adjacency matrix) from surface mesh faces.\n",
    "    \n",
    "    Args:\n",
    "        coords (ndarray): (n_vertices, 3) array of vertex coordinates\n",
    "        faces (ndarray): (n_faces, 3) array, each row has 3 vertex indices forming a triangular face\n",
    "    \n",
    "    Returns:\n",
    "        adjacency_matrix (ndaray): sparse adjacency_matrix is a set of vertices adjacent to vertex v\n",
    "    \"\"\"\n",
    "    n_vertices = coords.shape[0]\n",
    "    adjacency = [set() for _ in range(n_vertices)]\n",
    "\n",
    "    # For each face, connect its three vertices (v1, v2, v3)\n",
    "    for (v1, v2, v3) in faces:\n",
    "        adjacency[v1].add(v2)\n",
    "        adjacency[v1].add(v3)\n",
    "        adjacency[v2].add(v1)\n",
    "        adjacency[v2].add(v3)\n",
    "        adjacency[v3].add(v1)\n",
    "        adjacency[v3].add(v2)\n",
    "\n",
    "    n_vertices = len(adjacency)\n",
    "    rows = []\n",
    "    cols = []\n",
    "    for v in range(n_vertices):\n",
    "        for w in adjacency[v]:\n",
    "            rows.append(v)\n",
    "            cols.append(w)\n",
    "    data = np.ones(len(rows), dtype=int)\n",
    "    \n",
    "    # Build a square adjacency matrix\n",
    "    A = sp.csr_matrix((data, (rows, cols)), shape=(n_vertices, n_vertices))\n",
    "    \n",
    "    # Symmetrize (sometimes needed if faces produce directed edges—but typically it's already symmetric)\n",
    "    # A = A.maximum(A.T)\n",
    "    \n",
    "    return A\n",
    "\n",
    "A_csr = build_surface_adjacency(coords, faces)\n",
    "edge_index = torch.tensor(np.array(A_csr.nonzero()), dtype=torch.long)\n",
    "\n",
    "# Convert CSR matrix to COO format first\n",
    "A_coo = A_csr.tocoo()\n",
    "\n",
    "# Create indices and values tensors\n",
    "indices = torch.LongTensor(np.vstack((A_coo.row, A_coo.col)))\n",
    "values = torch.FloatTensor(A_coo.data)\n",
    "shape = torch.Size(A_csr.shape)\n",
    "\n",
    "# Create sparse torch tensor in COO format\n",
    "A_torch = torch.sparse_coo_tensor(indices, values, shape)"
   ]
  },
  {
   "cell_type": "code",
   "execution_count": 26,
   "metadata": {},
   "outputs": [
    {
     "data": {
      "text/plain": [
       "torch.Size([2, 61440])"
      ]
     },
     "execution_count": 26,
     "metadata": {},
     "output_type": "execute_result"
    }
   ],
   "source": [
    "edge_index.shape"
   ]
  },
  {
   "cell_type": "code",
   "execution_count": 30,
   "metadata": {},
   "outputs": [
    {
     "data": {
      "text/plain": [
       "(torch.Tensor, torch.Tensor)"
      ]
     },
     "execution_count": 30,
     "metadata": {},
     "output_type": "execute_result"
    }
   ],
   "source": [
    "type(edge_index), type(A_torch)"
   ]
  },
  {
   "cell_type": "code",
   "execution_count": 34,
   "metadata": {},
   "outputs": [
    {
     "data": {
      "text/plain": [
       "array([[    0,     0,     0, ..., 10241, 10241, 10241],\n",
       "       [ 2562,  2564,  2565, ...,  9918, 10161, 10240]], shape=(2, 61440))"
      ]
     },
     "execution_count": 34,
     "metadata": {},
     "output_type": "execute_result"
    }
   ],
   "source": [
    "edge_index.numpy()"
   ]
  },
  {
   "cell_type": "code",
   "execution_count": 35,
   "metadata": {},
   "outputs": [],
   "source": [
    "def visualize_brain_graph(coords, edge_index):\n",
    "    # Create visualization window\n",
    "    vis = o3d.visualization.Visualizer()\n",
    "    vis.create_window(window_name=\"Brain Graph Structure\", width=800, height=800)\n",
    "    \n",
    "    # Set rendering options\n",
    "    render_option = vis.get_render_option()\n",
    "    render_option.background_color = [0, 0, 0]  # Black background\n",
    "    render_option.point_size = 2.0\n",
    "    \n",
    "    # Create point cloud for nodes\n",
    "    pcd = o3d.geometry.PointCloud()\n",
    "    pcd.points = o3d.utility.Vector3dVector(coords)\n",
    "    \n",
    "    # Set default color for nodes (e.g., white)\n",
    "    colors = np.ones((len(coords), 3)) * 0.8  # Light gray color\n",
    "    pcd.colors = o3d.utility.Vector3dVector(colors)\n",
    "    \n",
    "    # Create line set for edges\n",
    "    edge_indices = edge_index.numpy().T  # Convert to numpy and transpose\n",
    "    lines = o3d.geometry.LineSet()\n",
    "    lines.points = o3d.utility.Vector3dVector(coords)\n",
    "    lines.lines = o3d.utility.Vector2iVector(edge_indices)\n",
    "    \n",
    "    # Set edge colors (e.g., blue)\n",
    "    edge_colors = np.zeros((len(edge_indices), 3))\n",
    "    edge_colors[:, 2] = 1.0  # Blue color for edges\n",
    "    lines.colors = o3d.utility.Vector3dVector(edge_colors)\n",
    "    \n",
    "    # Add geometries to visualizer\n",
    "    vis.add_geometry(pcd)\n",
    "    vis.add_geometry(lines)\n",
    "    \n",
    "    # Set camera view\n",
    "    vis.get_view_control().set_zoom(0.8)\n",
    "    \n",
    "    # Run visualization\n",
    "    vis.run()\n",
    "    vis.destroy_window()"
   ]
  },
  {
   "cell_type": "code",
   "execution_count": 37,
   "metadata": {},
   "outputs": [
    {
     "name": "stderr",
     "output_type": "stream",
     "text": [
      "2025-02-25 00:00:13.274 python[22587:801391] +[IMKClient subclass]: chose IMKClient_Modern\n",
      "2025-02-25 00:00:13.274 python[22587:801391] +[IMKInputSession subclass]: chose IMKInputSession_Modern\n"
     ]
    }
   ],
   "source": [
    "visualize_brain_graph(coords, edge_index)"
   ]
  },
  {
   "cell_type": "code",
   "execution_count": 39,
   "metadata": {},
   "outputs": [
    {
     "data": {
      "text/plain": [
       "array([[    0,  2562],\n",
       "       [    0,  2564],\n",
       "       [    0,  2565],\n",
       "       ...,\n",
       "       [10241,  9918],\n",
       "       [10241, 10161],\n",
       "       [10241, 10240]], shape=(61440, 2))"
      ]
     },
     "execution_count": 39,
     "metadata": {},
     "output_type": "execute_result"
    }
   ],
   "source": [
    "edge_index.numpy().T"
   ]
  },
  {
   "cell_type": "code",
   "execution_count": 40,
   "metadata": {},
   "outputs": [
    {
     "data": {
      "text/plain": [
       "tensor(indices=tensor([[    0,     0,     0,  ..., 10241, 10241, 10241],\n",
       "                       [ 2562,  2564,  2565,  ...,  9918, 10161, 10240]]),\n",
       "       values=tensor([1., 1., 1.,  ..., 1., 1., 1.]),\n",
       "       size=(10242, 10242), nnz=61440, layout=torch.sparse_coo)"
      ]
     },
     "execution_count": 40,
     "metadata": {},
     "output_type": "execute_result"
    }
   ],
   "source": [
    "A_torch"
   ]
  },
  {
   "cell_type": "code",
   "execution_count": 48,
   "metadata": {},
   "outputs": [],
   "source": [
    "def create_graph_data(X, y, edge_index):\n",
    "    graphs = []\n",
    "    for i in range(X.shape[0]):\n",
    "        # Node features for this subject\n",
    "        x = torch.FloatTensor(X[i].reshape(-1, 1))\n",
    "        # Create graph object\n",
    "        data = Data(\n",
    "            x=x,\n",
    "            edge_index=edge_index,\n",
    "            y=torch.FloatTensor(y[i])\n",
    "        )\n",
    "        graphs.append(data)\n",
    "    return graphs\n",
    "\n",
    "graph_list = create_graph_data(X_.values, y_.values, edge_index)"
   ]
  },
  {
   "cell_type": "code",
   "execution_count": 60,
   "metadata": {},
   "outputs": [
    {
     "name": "stdout",
     "output_type": "stream",
     "text": [
      "Epoch 001, Train Loss: 0.0201, Test Loss: 0.0066\n",
      "Epoch 002, Train Loss: 0.0069, Test Loss: 0.0065\n",
      "Epoch 003, Train Loss: 0.0068, Test Loss: 0.0069\n",
      "Epoch 004, Train Loss: 0.0069, Test Loss: 0.0066\n",
      "Epoch 005, Train Loss: 0.0069, Test Loss: 0.0067\n",
      "Epoch 006, Train Loss: 0.0070, Test Loss: 0.0065\n",
      "Epoch 007, Train Loss: 0.0070, Test Loss: 0.0066\n",
      "Epoch 008, Train Loss: 0.0071, Test Loss: 0.0065\n",
      "Epoch 009, Train Loss: 0.0068, Test Loss: 0.0067\n",
      "Epoch 010, Train Loss: 0.0071, Test Loss: 0.0065\n",
      "Epoch 011, Train Loss: 0.0071, Test Loss: 0.0065\n",
      "Epoch 012, Train Loss: 0.0069, Test Loss: 0.0066\n",
      "Epoch 013, Train Loss: 0.0070, Test Loss: 0.0078\n",
      "Epoch 014, Train Loss: 0.0070, Test Loss: 0.0067\n",
      "Epoch 015, Train Loss: 0.0069, Test Loss: 0.0065\n",
      "Epoch 016, Train Loss: 0.0071, Test Loss: 0.0070\n",
      "Epoch 017, Train Loss: 0.0070, Test Loss: 0.0067\n",
      "Epoch 018, Train Loss: 0.0069, Test Loss: 0.0071\n",
      "Epoch 019, Train Loss: 0.0069, Test Loss: 0.0066\n",
      "Epoch 020, Train Loss: 0.0070, Test Loss: 0.0075\n",
      "Epoch 021, Train Loss: 0.0070, Test Loss: 0.0069\n",
      "Epoch 022, Train Loss: 0.0069, Test Loss: 0.0065\n",
      "Epoch 023, Train Loss: 0.0069, Test Loss: 0.0070\n",
      "Epoch 024, Train Loss: 0.0069, Test Loss: 0.0066\n",
      "Epoch 025, Train Loss: 0.0069, Test Loss: 0.0070\n",
      "Epoch 026, Train Loss: 0.0070, Test Loss: 0.0068\n",
      "Epoch 027, Train Loss: 0.0069, Test Loss: 0.0065\n",
      "Epoch 028, Train Loss: 0.0069, Test Loss: 0.0068\n",
      "Epoch 029, Train Loss: 0.0069, Test Loss: 0.0066\n",
      "Epoch 030, Train Loss: 0.0069, Test Loss: 0.0065\n",
      "Epoch 031, Train Loss: 0.0069, Test Loss: 0.0068\n",
      "Epoch 032, Train Loss: 0.0069, Test Loss: 0.0066\n",
      "Epoch 033, Train Loss: 0.0068, Test Loss: 0.0066\n",
      "Epoch 034, Train Loss: 0.0068, Test Loss: 0.0068\n",
      "Epoch 035, Train Loss: 0.0069, Test Loss: 0.0067\n",
      "Epoch 036, Train Loss: 0.0069, Test Loss: 0.0068\n",
      "Epoch 037, Train Loss: 0.0069, Test Loss: 0.0076\n",
      "Epoch 038, Train Loss: 0.0071, Test Loss: 0.0067\n",
      "Epoch 039, Train Loss: 0.0069, Test Loss: 0.0066\n",
      "Epoch 040, Train Loss: 0.0069, Test Loss: 0.0067\n",
      "Epoch 041, Train Loss: 0.0069, Test Loss: 0.0067\n",
      "Epoch 042, Train Loss: 0.0069, Test Loss: 0.0066\n",
      "Epoch 043, Train Loss: 0.0069, Test Loss: 0.0066\n",
      "Epoch 044, Train Loss: 0.0068, Test Loss: 0.0068\n",
      "Epoch 045, Train Loss: 0.0068, Test Loss: 0.0066\n",
      "Epoch 046, Train Loss: 0.0068, Test Loss: 0.0065\n",
      "Epoch 047, Train Loss: 0.0069, Test Loss: 0.0066\n",
      "Epoch 048, Train Loss: 0.0068, Test Loss: 0.0065\n",
      "Epoch 049, Train Loss: 0.0069, Test Loss: 0.0066\n",
      "Epoch 050, Train Loss: 0.0069, Test Loss: 0.0066\n",
      "Epoch 051, Train Loss: 0.0068, Test Loss: 0.0066\n",
      "Epoch 052, Train Loss: 0.0069, Test Loss: 0.0065\n",
      "Epoch 053, Train Loss: 0.0068, Test Loss: 0.0065\n",
      "Epoch 054, Train Loss: 0.0068, Test Loss: 0.0066\n",
      "Epoch 055, Train Loss: 0.0068, Test Loss: 0.0065\n",
      "Epoch 056, Train Loss: 0.0068, Test Loss: 0.0068\n",
      "Epoch 057, Train Loss: 0.0069, Test Loss: 0.0066\n",
      "Epoch 058, Train Loss: 0.0069, Test Loss: 0.0066\n",
      "Epoch 059, Train Loss: 0.0068, Test Loss: 0.0067\n",
      "Epoch 060, Train Loss: 0.0068, Test Loss: 0.0066\n",
      "Epoch 061, Train Loss: 0.0068, Test Loss: 0.0066\n",
      "Epoch 062, Train Loss: 0.0069, Test Loss: 0.0066\n",
      "Epoch 063, Train Loss: 0.0068, Test Loss: 0.0065\n",
      "Epoch 064, Train Loss: 0.0069, Test Loss: 0.0066\n",
      "Epoch 065, Train Loss: 0.0068, Test Loss: 0.0067\n",
      "Epoch 066, Train Loss: 0.0069, Test Loss: 0.0066\n",
      "Epoch 067, Train Loss: 0.0068, Test Loss: 0.0065\n",
      "Epoch 068, Train Loss: 0.0068, Test Loss: 0.0065\n",
      "Epoch 069, Train Loss: 0.0068, Test Loss: 0.0065\n",
      "Epoch 070, Train Loss: 0.0068, Test Loss: 0.0066\n",
      "Epoch 071, Train Loss: 0.0069, Test Loss: 0.0066\n",
      "Epoch 072, Train Loss: 0.0068, Test Loss: 0.0066\n",
      "Epoch 073, Train Loss: 0.0069, Test Loss: 0.0066\n",
      "Epoch 074, Train Loss: 0.0068, Test Loss: 0.0067\n",
      "Epoch 075, Train Loss: 0.0068, Test Loss: 0.0068\n",
      "Epoch 076, Train Loss: 0.0068, Test Loss: 0.0065\n",
      "Epoch 077, Train Loss: 0.0068, Test Loss: 0.0065\n",
      "Epoch 078, Train Loss: 0.0068, Test Loss: 0.0065\n",
      "Epoch 079, Train Loss: 0.0069, Test Loss: 0.0065\n",
      "Epoch 080, Train Loss: 0.0068, Test Loss: 0.0066\n",
      "Epoch 081, Train Loss: 0.0068, Test Loss: 0.0066\n",
      "Epoch 082, Train Loss: 0.0068, Test Loss: 0.0065\n",
      "Epoch 083, Train Loss: 0.0068, Test Loss: 0.0065\n",
      "Epoch 084, Train Loss: 0.0069, Test Loss: 0.0067\n",
      "Epoch 085, Train Loss: 0.0068, Test Loss: 0.0067\n",
      "Epoch 086, Train Loss: 0.0068, Test Loss: 0.0065\n",
      "Epoch 087, Train Loss: 0.0068, Test Loss: 0.0065\n",
      "Epoch 088, Train Loss: 0.0068, Test Loss: 0.0065\n"
     ]
    },
    {
     "ename": "KeyboardInterrupt",
     "evalue": "",
     "output_type": "error",
     "traceback": [
      "\u001b[0;31m---------------------------------------------------------------------------\u001b[0m",
      "\u001b[0;31mKeyboardInterrupt\u001b[0m                         Traceback (most recent call last)",
      "Cell \u001b[0;32mIn[60], line 52\u001b[0m\n\u001b[1;32m     50\u001b[0m \u001b[38;5;28;01mfor\u001b[39;00m batch \u001b[38;5;129;01min\u001b[39;00m train_loader:\n\u001b[1;32m     51\u001b[0m     optimizer\u001b[38;5;241m.\u001b[39mzero_grad()\n\u001b[0;32m---> 52\u001b[0m     out \u001b[38;5;241m=\u001b[39m \u001b[43mmodel\u001b[49m\u001b[43m(\u001b[49m\u001b[43mbatch\u001b[49m\u001b[38;5;241;43m.\u001b[39;49m\u001b[43mx\u001b[49m\u001b[43m,\u001b[49m\u001b[43m \u001b[49m\u001b[43mbatch\u001b[49m\u001b[38;5;241;43m.\u001b[39;49m\u001b[43medge_index\u001b[49m\u001b[43m)\u001b[49m\n\u001b[1;32m     53\u001b[0m     loss \u001b[38;5;241m=\u001b[39m criterion(out, batch\u001b[38;5;241m.\u001b[39my)\n\u001b[1;32m     54\u001b[0m     loss\u001b[38;5;241m.\u001b[39mbackward()\n",
      "File \u001b[0;32m~/miniconda3/lib/python3.12/site-packages/torch/nn/modules/module.py:1736\u001b[0m, in \u001b[0;36mModule._wrapped_call_impl\u001b[0;34m(self, *args, **kwargs)\u001b[0m\n\u001b[1;32m   1734\u001b[0m     \u001b[38;5;28;01mreturn\u001b[39;00m \u001b[38;5;28mself\u001b[39m\u001b[38;5;241m.\u001b[39m_compiled_call_impl(\u001b[38;5;241m*\u001b[39margs, \u001b[38;5;241m*\u001b[39m\u001b[38;5;241m*\u001b[39mkwargs)  \u001b[38;5;66;03m# type: ignore[misc]\u001b[39;00m\n\u001b[1;32m   1735\u001b[0m \u001b[38;5;28;01melse\u001b[39;00m:\n\u001b[0;32m-> 1736\u001b[0m     \u001b[38;5;28;01mreturn\u001b[39;00m \u001b[38;5;28;43mself\u001b[39;49m\u001b[38;5;241;43m.\u001b[39;49m\u001b[43m_call_impl\u001b[49m\u001b[43m(\u001b[49m\u001b[38;5;241;43m*\u001b[39;49m\u001b[43margs\u001b[49m\u001b[43m,\u001b[49m\u001b[43m \u001b[49m\u001b[38;5;241;43m*\u001b[39;49m\u001b[38;5;241;43m*\u001b[39;49m\u001b[43mkwargs\u001b[49m\u001b[43m)\u001b[49m\n",
      "File \u001b[0;32m~/miniconda3/lib/python3.12/site-packages/torch/nn/modules/module.py:1747\u001b[0m, in \u001b[0;36mModule._call_impl\u001b[0;34m(self, *args, **kwargs)\u001b[0m\n\u001b[1;32m   1742\u001b[0m \u001b[38;5;66;03m# If we don't have any hooks, we want to skip the rest of the logic in\u001b[39;00m\n\u001b[1;32m   1743\u001b[0m \u001b[38;5;66;03m# this function, and just call forward.\u001b[39;00m\n\u001b[1;32m   1744\u001b[0m \u001b[38;5;28;01mif\u001b[39;00m \u001b[38;5;129;01mnot\u001b[39;00m (\u001b[38;5;28mself\u001b[39m\u001b[38;5;241m.\u001b[39m_backward_hooks \u001b[38;5;129;01mor\u001b[39;00m \u001b[38;5;28mself\u001b[39m\u001b[38;5;241m.\u001b[39m_backward_pre_hooks \u001b[38;5;129;01mor\u001b[39;00m \u001b[38;5;28mself\u001b[39m\u001b[38;5;241m.\u001b[39m_forward_hooks \u001b[38;5;129;01mor\u001b[39;00m \u001b[38;5;28mself\u001b[39m\u001b[38;5;241m.\u001b[39m_forward_pre_hooks\n\u001b[1;32m   1745\u001b[0m         \u001b[38;5;129;01mor\u001b[39;00m _global_backward_pre_hooks \u001b[38;5;129;01mor\u001b[39;00m _global_backward_hooks\n\u001b[1;32m   1746\u001b[0m         \u001b[38;5;129;01mor\u001b[39;00m _global_forward_hooks \u001b[38;5;129;01mor\u001b[39;00m _global_forward_pre_hooks):\n\u001b[0;32m-> 1747\u001b[0m     \u001b[38;5;28;01mreturn\u001b[39;00m \u001b[43mforward_call\u001b[49m\u001b[43m(\u001b[49m\u001b[38;5;241;43m*\u001b[39;49m\u001b[43margs\u001b[49m\u001b[43m,\u001b[49m\u001b[43m \u001b[49m\u001b[38;5;241;43m*\u001b[39;49m\u001b[38;5;241;43m*\u001b[39;49m\u001b[43mkwargs\u001b[49m\u001b[43m)\u001b[49m\n\u001b[1;32m   1749\u001b[0m result \u001b[38;5;241m=\u001b[39m \u001b[38;5;28;01mNone\u001b[39;00m\n\u001b[1;32m   1750\u001b[0m called_always_called_hooks \u001b[38;5;241m=\u001b[39m \u001b[38;5;28mset\u001b[39m()\n",
      "Cell \u001b[0;32mIn[60], line 16\u001b[0m, in \u001b[0;36mGCN.forward\u001b[0;34m(self, x, edge_index)\u001b[0m\n\u001b[1;32m     13\u001b[0m x \u001b[38;5;241m=\u001b[39m F\u001b[38;5;241m.\u001b[39mdropout(x, training\u001b[38;5;241m=\u001b[39m\u001b[38;5;28mself\u001b[39m\u001b[38;5;241m.\u001b[39mtraining)\n\u001b[1;32m     15\u001b[0m \u001b[38;5;66;03m# Second Graph Convolution\u001b[39;00m\n\u001b[0;32m---> 16\u001b[0m x \u001b[38;5;241m=\u001b[39m \u001b[38;5;28;43mself\u001b[39;49m\u001b[38;5;241;43m.\u001b[39;49m\u001b[43mconv2\u001b[49m\u001b[43m(\u001b[49m\u001b[43mx\u001b[49m\u001b[43m,\u001b[49m\u001b[43m \u001b[49m\u001b[43medge_index\u001b[49m\u001b[43m)\u001b[49m\n\u001b[1;32m     17\u001b[0m x \u001b[38;5;241m=\u001b[39m F\u001b[38;5;241m.\u001b[39mrelu(x)\n\u001b[1;32m     19\u001b[0m \u001b[38;5;66;03m# Global mean pooling\u001b[39;00m\n",
      "File \u001b[0;32m~/miniconda3/lib/python3.12/site-packages/torch/nn/modules/module.py:1736\u001b[0m, in \u001b[0;36mModule._wrapped_call_impl\u001b[0;34m(self, *args, **kwargs)\u001b[0m\n\u001b[1;32m   1734\u001b[0m     \u001b[38;5;28;01mreturn\u001b[39;00m \u001b[38;5;28mself\u001b[39m\u001b[38;5;241m.\u001b[39m_compiled_call_impl(\u001b[38;5;241m*\u001b[39margs, \u001b[38;5;241m*\u001b[39m\u001b[38;5;241m*\u001b[39mkwargs)  \u001b[38;5;66;03m# type: ignore[misc]\u001b[39;00m\n\u001b[1;32m   1735\u001b[0m \u001b[38;5;28;01melse\u001b[39;00m:\n\u001b[0;32m-> 1736\u001b[0m     \u001b[38;5;28;01mreturn\u001b[39;00m \u001b[38;5;28;43mself\u001b[39;49m\u001b[38;5;241;43m.\u001b[39;49m\u001b[43m_call_impl\u001b[49m\u001b[43m(\u001b[49m\u001b[38;5;241;43m*\u001b[39;49m\u001b[43margs\u001b[49m\u001b[43m,\u001b[49m\u001b[43m \u001b[49m\u001b[38;5;241;43m*\u001b[39;49m\u001b[38;5;241;43m*\u001b[39;49m\u001b[43mkwargs\u001b[49m\u001b[43m)\u001b[49m\n",
      "File \u001b[0;32m~/miniconda3/lib/python3.12/site-packages/torch/nn/modules/module.py:1747\u001b[0m, in \u001b[0;36mModule._call_impl\u001b[0;34m(self, *args, **kwargs)\u001b[0m\n\u001b[1;32m   1742\u001b[0m \u001b[38;5;66;03m# If we don't have any hooks, we want to skip the rest of the logic in\u001b[39;00m\n\u001b[1;32m   1743\u001b[0m \u001b[38;5;66;03m# this function, and just call forward.\u001b[39;00m\n\u001b[1;32m   1744\u001b[0m \u001b[38;5;28;01mif\u001b[39;00m \u001b[38;5;129;01mnot\u001b[39;00m (\u001b[38;5;28mself\u001b[39m\u001b[38;5;241m.\u001b[39m_backward_hooks \u001b[38;5;129;01mor\u001b[39;00m \u001b[38;5;28mself\u001b[39m\u001b[38;5;241m.\u001b[39m_backward_pre_hooks \u001b[38;5;129;01mor\u001b[39;00m \u001b[38;5;28mself\u001b[39m\u001b[38;5;241m.\u001b[39m_forward_hooks \u001b[38;5;129;01mor\u001b[39;00m \u001b[38;5;28mself\u001b[39m\u001b[38;5;241m.\u001b[39m_forward_pre_hooks\n\u001b[1;32m   1745\u001b[0m         \u001b[38;5;129;01mor\u001b[39;00m _global_backward_pre_hooks \u001b[38;5;129;01mor\u001b[39;00m _global_backward_hooks\n\u001b[1;32m   1746\u001b[0m         \u001b[38;5;129;01mor\u001b[39;00m _global_forward_hooks \u001b[38;5;129;01mor\u001b[39;00m _global_forward_pre_hooks):\n\u001b[0;32m-> 1747\u001b[0m     \u001b[38;5;28;01mreturn\u001b[39;00m \u001b[43mforward_call\u001b[49m\u001b[43m(\u001b[49m\u001b[38;5;241;43m*\u001b[39;49m\u001b[43margs\u001b[49m\u001b[43m,\u001b[49m\u001b[43m \u001b[49m\u001b[38;5;241;43m*\u001b[39;49m\u001b[38;5;241;43m*\u001b[39;49m\u001b[43mkwargs\u001b[49m\u001b[43m)\u001b[49m\n\u001b[1;32m   1749\u001b[0m result \u001b[38;5;241m=\u001b[39m \u001b[38;5;28;01mNone\u001b[39;00m\n\u001b[1;32m   1750\u001b[0m called_always_called_hooks \u001b[38;5;241m=\u001b[39m \u001b[38;5;28mset\u001b[39m()\n",
      "File \u001b[0;32m~/miniconda3/lib/python3.12/site-packages/torch_geometric/nn/conv/gcn_conv.py:241\u001b[0m, in \u001b[0;36mGCNConv.forward\u001b[0;34m(self, x, edge_index, edge_weight)\u001b[0m\n\u001b[1;32m    239\u001b[0m cache \u001b[38;5;241m=\u001b[39m \u001b[38;5;28mself\u001b[39m\u001b[38;5;241m.\u001b[39m_cached_edge_index\n\u001b[1;32m    240\u001b[0m \u001b[38;5;28;01mif\u001b[39;00m cache \u001b[38;5;129;01mis\u001b[39;00m \u001b[38;5;28;01mNone\u001b[39;00m:\n\u001b[0;32m--> 241\u001b[0m     edge_index, edge_weight \u001b[38;5;241m=\u001b[39m \u001b[43mgcn_norm\u001b[49m\u001b[43m(\u001b[49m\u001b[43m  \u001b[49m\u001b[38;5;66;43;03m# yapf: disable\u001b[39;49;00m\n\u001b[1;32m    242\u001b[0m \u001b[43m        \u001b[49m\u001b[43medge_index\u001b[49m\u001b[43m,\u001b[49m\u001b[43m \u001b[49m\u001b[43medge_weight\u001b[49m\u001b[43m,\u001b[49m\u001b[43m \u001b[49m\u001b[43mx\u001b[49m\u001b[38;5;241;43m.\u001b[39;49m\u001b[43msize\u001b[49m\u001b[43m(\u001b[49m\u001b[38;5;28;43mself\u001b[39;49m\u001b[38;5;241;43m.\u001b[39;49m\u001b[43mnode_dim\u001b[49m\u001b[43m)\u001b[49m\u001b[43m,\u001b[49m\n\u001b[1;32m    243\u001b[0m \u001b[43m        \u001b[49m\u001b[38;5;28;43mself\u001b[39;49m\u001b[38;5;241;43m.\u001b[39;49m\u001b[43mimproved\u001b[49m\u001b[43m,\u001b[49m\u001b[43m \u001b[49m\u001b[38;5;28;43mself\u001b[39;49m\u001b[38;5;241;43m.\u001b[39;49m\u001b[43madd_self_loops\u001b[49m\u001b[43m,\u001b[49m\u001b[43m \u001b[49m\u001b[38;5;28;43mself\u001b[39;49m\u001b[38;5;241;43m.\u001b[39;49m\u001b[43mflow\u001b[49m\u001b[43m,\u001b[49m\u001b[43m \u001b[49m\u001b[43mx\u001b[49m\u001b[38;5;241;43m.\u001b[39;49m\u001b[43mdtype\u001b[49m\u001b[43m)\u001b[49m\n\u001b[1;32m    244\u001b[0m     \u001b[38;5;28;01mif\u001b[39;00m \u001b[38;5;28mself\u001b[39m\u001b[38;5;241m.\u001b[39mcached:\n\u001b[1;32m    245\u001b[0m         \u001b[38;5;28mself\u001b[39m\u001b[38;5;241m.\u001b[39m_cached_edge_index \u001b[38;5;241m=\u001b[39m (edge_index, edge_weight)\n",
      "File \u001b[0;32m~/miniconda3/lib/python3.12/site-packages/torch_geometric/nn/conv/gcn_conv.py:103\u001b[0m, in \u001b[0;36mgcn_norm\u001b[0;34m(edge_index, edge_weight, num_nodes, improved, add_self_loops, flow, dtype)\u001b[0m\n\u001b[1;32m     99\u001b[0m     edge_index, edge_weight \u001b[38;5;241m=\u001b[39m add_remaining_self_loops(\n\u001b[1;32m    100\u001b[0m         edge_index, edge_weight, fill_value, num_nodes)\n\u001b[1;32m    102\u001b[0m \u001b[38;5;28;01mif\u001b[39;00m edge_weight \u001b[38;5;129;01mis\u001b[39;00m \u001b[38;5;28;01mNone\u001b[39;00m:\n\u001b[0;32m--> 103\u001b[0m     edge_weight \u001b[38;5;241m=\u001b[39m \u001b[43mtorch\u001b[49m\u001b[38;5;241;43m.\u001b[39;49m\u001b[43mones\u001b[49m\u001b[43m(\u001b[49m\u001b[43m(\u001b[49m\u001b[43medge_index\u001b[49m\u001b[38;5;241;43m.\u001b[39;49m\u001b[43msize\u001b[49m\u001b[43m(\u001b[49m\u001b[38;5;241;43m1\u001b[39;49m\u001b[43m)\u001b[49m\u001b[43m,\u001b[49m\u001b[43m \u001b[49m\u001b[43m)\u001b[49m\u001b[43m,\u001b[49m\u001b[43m \u001b[49m\u001b[43mdtype\u001b[49m\u001b[38;5;241;43m=\u001b[39;49m\u001b[43mdtype\u001b[49m\u001b[43m,\u001b[49m\n\u001b[1;32m    104\u001b[0m \u001b[43m                             \u001b[49m\u001b[43mdevice\u001b[49m\u001b[38;5;241;43m=\u001b[39;49m\u001b[43medge_index\u001b[49m\u001b[38;5;241;43m.\u001b[39;49m\u001b[43mdevice\u001b[49m\u001b[43m)\u001b[49m\n\u001b[1;32m    106\u001b[0m row, col \u001b[38;5;241m=\u001b[39m edge_index[\u001b[38;5;241m0\u001b[39m], edge_index[\u001b[38;5;241m1\u001b[39m]\n\u001b[1;32m    107\u001b[0m idx \u001b[38;5;241m=\u001b[39m col \u001b[38;5;28;01mif\u001b[39;00m flow \u001b[38;5;241m==\u001b[39m \u001b[38;5;124m'\u001b[39m\u001b[38;5;124msource_to_target\u001b[39m\u001b[38;5;124m'\u001b[39m \u001b[38;5;28;01melse\u001b[39;00m row\n",
      "\u001b[0;31mKeyboardInterrupt\u001b[0m: "
     ]
    }
   ],
   "source": [
    "# Define GCN model\n",
    "class GCN(torch.nn.Module):\n",
    "    def __init__(self, num_node_features):\n",
    "        super(GCN, self).__init__()\n",
    "        self.conv1 = GCNConv(num_node_features, 16)\n",
    "        self.conv2 = GCNConv(16, 8)\n",
    "        self.linear = torch.nn.Linear(8, 1)\n",
    "\n",
    "    def forward(self, x, edge_index):\n",
    "        # First Graph Convolution\n",
    "        x = self.conv1(x, edge_index)\n",
    "        x = F.relu(x)\n",
    "        x = F.dropout(x, training=self.training)\n",
    "        \n",
    "        # Second Graph Convolution\n",
    "        x = self.conv2(x, edge_index)\n",
    "        x = F.relu(x)\n",
    "        \n",
    "        # Global mean pooling\n",
    "        x = global_mean_pool(x, torch.zeros(x.shape[0], dtype=torch.long))\n",
    "        \n",
    "        # Linear layer for final prediction\n",
    "        x = self.linear(x)\n",
    "        \n",
    "        return x\n",
    "\n",
    "# Initialize model\n",
    "model = GCN(num_node_features=1)\n",
    "\n",
    "# Define loss function and optimizer\n",
    "criterion = torch.nn.MSELoss()\n",
    "optimizer = torch.optim.Adam(model.parameters(), lr=0.01)\n",
    "\n",
    "# Split data into train and test sets\n",
    "#train_size = int(0.8 * len(graph_list))\n",
    "#test_size = len(graph_list) - train_size\n",
    "train_dataset, test_dataset = train_test_split(graph_list, test_size=0.2, random_state=42)\n",
    "\n",
    "\n",
    "\n",
    "# Create data loaders\n",
    "train_loader = DataLoader(train_dataset, batch_size=32, shuffle=True)\n",
    "test_loader = DataLoader(test_dataset, batch_size=32, shuffle=False)\n",
    "\n",
    "# Training loop\n",
    "for epoch in range(100):\n",
    "    # Training\n",
    "    model.train()\n",
    "    total_train_loss = 0\n",
    "    for batch in train_loader:\n",
    "        optimizer.zero_grad()\n",
    "        out = model(batch.x, batch.edge_index)\n",
    "        loss = criterion(out, batch.y)\n",
    "        loss.backward()\n",
    "        optimizer.step()\n",
    "        total_train_loss += loss.item()\n",
    "    \n",
    "    # Testing\n",
    "    model.eval()\n",
    "    total_test_loss = 0\n",
    "    with torch.no_grad():\n",
    "        for batch in test_loader:\n",
    "            out = model(batch.x, batch.edge_index)\n",
    "            loss = criterion(out, batch.y)\n",
    "            total_test_loss += loss.item()\n",
    "    \n",
    "    \n",
    "    avg_train_loss = total_train_loss/len(train_loader)\n",
    "    avg_test_loss = total_test_loss/len(test_loader)\n",
    "    print(f'Epoch {epoch+1:03d}, Train Loss: {avg_train_loss:.4f}, Test Loss: {avg_test_loss:.4f}')\n"
   ]
  },
  {
   "cell_type": "code",
   "execution_count": null,
   "metadata": {},
   "outputs": [],
   "source": []
  }
 ],
 "metadata": {
  "kernelspec": {
   "display_name": "Python 3",
   "language": "python",
   "name": "python3"
  },
  "language_info": {
   "codemirror_mode": {
    "name": "ipython",
    "version": 3
   },
   "file_extension": ".py",
   "mimetype": "text/x-python",
   "name": "python",
   "nbconvert_exporter": "python",
   "pygments_lexer": "ipython3",
   "version": "3.12.2"
  }
 },
 "nbformat": 4,
 "nbformat_minor": 2
}
